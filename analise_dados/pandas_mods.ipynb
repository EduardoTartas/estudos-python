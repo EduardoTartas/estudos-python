{
 "cells": [
  {
   "cell_type": "code",
   "execution_count": 50,
   "id": "fa10acd1",
   "metadata": {},
   "outputs": [],
   "source": [
    "import pandas as pd\n",
    "import re\n",
    "\n",
    "df = pd.read_csv('./house.csv')\n"
   ]
  },
  {
   "cell_type": "code",
   "execution_count": null,
   "id": "3875422f",
   "metadata": {},
   "outputs": [],
   "source": [
    "df.columns"
   ]
  },
  {
   "cell_type": "code",
   "execution_count": null,
   "id": "c869dd98",
   "metadata": {},
   "outputs": [],
   "source": [
    "filter1 = df.loc[(df['Rooms'] == 3) & (df['Type'] == 'h') & (df['Price'] <= 500000)]\n",
    "filter1"
   ]
  },
  {
   "cell_type": "code",
   "execution_count": null,
   "id": "b9808e92",
   "metadata": {},
   "outputs": [],
   "source": [
    "filter2 = df.loc[(df['Address'].str.contains('Turner st|Turner Rd', flags=re.I))]\n",
    "filter2"
   ]
  },
  {
   "cell_type": "code",
   "execution_count": null,
   "id": "c959087f",
   "metadata": {},
   "outputs": [],
   "source": [
    "filter3 =df.loc[(df['Address'].str.contains('^59', flags=re.I)) & (df['Price'] <= 500000)]\n",
    "filter3"
   ]
  },
  {
   "cell_type": "code",
   "execution_count": null,
   "id": "6a87828a",
   "metadata": {},
   "outputs": [],
   "source": [
    "filter4 = df.loc[(df['SellerG'] == 'Ronald')]\n",
    "df.loc[(df['SellerG'] == 'Ronald'), ['Method', 'Type']] = 'Pending'\n",
    "filter4"
   ]
  },
  {
   "cell_type": "code",
   "execution_count": 62,
   "id": "8a5e92b3",
   "metadata": {},
   "outputs": [
    {
     "data": {
      "text/html": [
       "<div>\n",
       "<style scoped>\n",
       "    .dataframe tbody tr th:only-of-type {\n",
       "        vertical-align: middle;\n",
       "    }\n",
       "\n",
       "    .dataframe tbody tr th {\n",
       "        vertical-align: top;\n",
       "    }\n",
       "\n",
       "    .dataframe thead th {\n",
       "        text-align: right;\n",
       "    }\n",
       "</style>\n",
       "<table border=\"1\" class=\"dataframe\">\n",
       "  <thead>\n",
       "    <tr style=\"text-align: right;\">\n",
       "      <th></th>\n",
       "      <th>Rooms</th>\n",
       "      <th>Price</th>\n",
       "    </tr>\n",
       "    <tr>\n",
       "      <th>SellerG</th>\n",
       "      <th></th>\n",
       "      <th></th>\n",
       "    </tr>\n",
       "  </thead>\n",
       "  <tbody>\n",
       "    <tr>\n",
       "      <th>Justin</th>\n",
       "      <td>7.142857</td>\n",
       "      <td>933000.0</td>\n",
       "    </tr>\n",
       "    <tr>\n",
       "      <th>Gr8</th>\n",
       "      <td>6.000000</td>\n",
       "      <td>650000.0</td>\n",
       "    </tr>\n",
       "    <tr>\n",
       "      <th>Joe</th>\n",
       "      <td>6.000000</td>\n",
       "      <td>1800000.0</td>\n",
       "    </tr>\n",
       "    <tr>\n",
       "      <th>Airport</th>\n",
       "      <td>5.000000</td>\n",
       "      <td>1035000.0</td>\n",
       "    </tr>\n",
       "    <tr>\n",
       "      <th>Sterling</th>\n",
       "      <td>5.000000</td>\n",
       "      <td>NaN</td>\n",
       "    </tr>\n",
       "    <tr>\n",
       "      <th>T</th>\n",
       "      <td>5.000000</td>\n",
       "      <td>1825000.0</td>\n",
       "    </tr>\n",
       "    <tr>\n",
       "      <th>SN</th>\n",
       "      <td>5.000000</td>\n",
       "      <td>880000.0</td>\n",
       "    </tr>\n",
       "    <tr>\n",
       "      <th>Sandhurst</th>\n",
       "      <td>5.000000</td>\n",
       "      <td>850000.0</td>\n",
       "    </tr>\n",
       "    <tr>\n",
       "      <th>Platinum</th>\n",
       "      <td>5.000000</td>\n",
       "      <td>NaN</td>\n",
       "    </tr>\n",
       "    <tr>\n",
       "      <th>Gross</th>\n",
       "      <td>5.000000</td>\n",
       "      <td>NaN</td>\n",
       "    </tr>\n",
       "  </tbody>\n",
       "</table>\n",
       "</div>"
      ],
      "text/plain": [
       "              Rooms      Price\n",
       "SellerG                       \n",
       "Justin     7.142857   933000.0\n",
       "Gr8        6.000000   650000.0\n",
       "Joe        6.000000  1800000.0\n",
       "Airport    5.000000  1035000.0\n",
       "Sterling   5.000000        NaN\n",
       "T          5.000000  1825000.0\n",
       "SN         5.000000   880000.0\n",
       "Sandhurst  5.000000   850000.0\n",
       "Platinum   5.000000        NaN\n",
       "Gross      5.000000        NaN"
      ]
     },
     "execution_count": 62,
     "metadata": {},
     "output_type": "execute_result"
    }
   ],
   "source": [
    "df[['SellerG', 'Rooms', 'Price']].groupby(['SellerG']).mean().sort_values('Rooms', ascending=False).head(10)"
   ]
  }
 ],
 "metadata": {
  "kernelspec": {
   "display_name": "pb_sprint_2",
   "language": "python",
   "name": "python3"
  },
  "language_info": {
   "codemirror_mode": {
    "name": "ipython",
    "version": 3
   },
   "file_extension": ".py",
   "mimetype": "text/x-python",
   "name": "python",
   "nbconvert_exporter": "python",
   "pygments_lexer": "ipython3",
   "version": "3.13.5"
  }
 },
 "nbformat": 4,
 "nbformat_minor": 5
}
