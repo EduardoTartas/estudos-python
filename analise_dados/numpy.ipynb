{
 "cells": [
  {
   "cell_type": "code",
   "execution_count": 1,
   "id": "3f2f42d4",
   "metadata": {},
   "outputs": [],
   "source": [
    "import numpy as np\n",
    "import sys"
   ]
  },
  {
   "cell_type": "code",
   "execution_count": null,
   "id": "0509b852",
   "metadata": {},
   "outputs": [],
   "source": [
    "A = [1, 2 ,3 ,4 ,5]\n",
    "B = np.array([1, 2, 3, 4, 5])\n",
    "\n",
    "print(A)\n",
    "print(B)\n",
    "print(sys.getsizeof(A))\n",
    "print(B.nbytes)"
   ]
  },
  {
   "cell_type": "code",
   "execution_count": null,
   "id": "c931ace9",
   "metadata": {},
   "outputs": [],
   "source": [
    "D1 = np.array([1, 2, 3])\n",
    "print(D1) \n",
    "print(D1.ndim)\n",
    "print(D1.shape)\n",
    "\n",
    "print('=======')\n",
    "\n",
    "D2 = np.array([[1, 2, 3],[4, 5, 6]])\n",
    "print(D2) \n",
    "print(D2.ndim)\n",
    "print(D2.shape)\n",
    "\n",
    "print('=======')\n",
    "\n",
    "D3 = np.array([[[1, 2, 3],[4, 5, 6]],[[7, 8, 9], [10, 11, 12]]])\n",
    "print(D3) \n",
    "print(D3.ndim)\n",
    "print(D3.shape)\n"
   ]
  },
  {
   "cell_type": "code",
   "execution_count": 25,
   "id": "18258fa2",
   "metadata": {},
   "outputs": [
    {
     "name": "stdout",
     "output_type": "stream",
     "text": [
      "[2, 3, 4, 2, 3, 4]\n",
      "[4 6 8]\n"
     ]
    }
   ],
   "source": [
    "a = [2, 3, 4]\n",
    "b = [2, 3, 4]\n",
    "\n",
    "result = a + b\n",
    "print(result)\n",
    "\n",
    "a2 = np.array([2, 3, 4])\n",
    "b2 =np.array([2, 3, 4])\n",
    "\n",
    "print(np.add(a2, b2))"
   ]
  },
  {
   "cell_type": "markdown",
   "id": "e82b1407",
   "metadata": {},
   "source": [
    "restart kernel"
   ]
  },
  {
   "cell_type": "code",
   "execution_count": null,
   "id": "926ba6be",
   "metadata": {},
   "outputs": [
    {
     "data": {
      "text/plain": [
       "array([2])"
      ]
     },
     "execution_count": 19,
     "metadata": {},
     "output_type": "execute_result"
    }
   ],
   "source": [
    "a = np.array([[1,2,3,4,5], [6,7,8,9,10]])\n",
    "# print(a)\n",
    "# print(a[1])\n",
    "a[0,:]"
   ]
  },
  {
   "cell_type": "code",
   "execution_count": 20,
   "id": "3e5f6631",
   "metadata": {},
   "outputs": [
    {
     "data": {
      "text/plain": [
       "array([2, 7])"
      ]
     },
     "execution_count": 20,
     "metadata": {},
     "output_type": "execute_result"
    }
   ],
   "source": [
    "a[:,1]"
   ]
  }
 ],
 "metadata": {
  "kernelspec": {
   "display_name": "pb_sprint_2",
   "language": "python",
   "name": "python3"
  },
  "language_info": {
   "codemirror_mode": {
    "name": "ipython",
    "version": 3
   },
   "file_extension": ".py",
   "mimetype": "text/x-python",
   "name": "python",
   "nbconvert_exporter": "python",
   "pygments_lexer": "ipython3",
   "version": "3.13.5"
  }
 },
 "nbformat": 4,
 "nbformat_minor": 5
}
